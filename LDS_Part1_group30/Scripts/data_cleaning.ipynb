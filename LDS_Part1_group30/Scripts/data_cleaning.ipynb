{
 "cells": [
  {
   "cell_type": "code",
   "execution_count": null,
   "id": "7280a9ee",
   "metadata": {},
   "outputs": [],
   "source": [
    "import numpy as np\n",
    "import pandas as pd\n",
    "import matplotlib.pyplot as plt\n",
    "import re"
   ]
  },
  {
   "cell_type": "markdown",
   "id": "339f72a9",
   "metadata": {},
   "source": [
    "# Funzioni"
   ]
  },
  {
   "cell_type": "code",
   "execution_count": null,
   "id": "c30dd992",
   "metadata": {},
   "outputs": [],
   "source": [
    "# questa funzione ritorna True se non ci sono duplicati per quella colonna \n",
    "# altrimenti False se invece ne contiene\n",
    "def check_uniqueness(df):\n",
    "    for col in df.columns:\n",
    "        boolean = df[col].is_unique\n",
    "        print(col, boolean)"
   ]
  },
  {
   "cell_type": "code",
   "execution_count": null,
   "id": "8aaed0da",
   "metadata": {},
   "outputs": [],
   "source": [
    "def check_missing(df):\n",
    "\n",
    "    for col in df.columns:\n",
    "        print(col, (df[df[col] == '?'].shape[0] / df.shape[0]) * 100 )"
   ]
  },
  {
   "cell_type": "markdown",
   "id": "90a2423e",
   "metadata": {},
   "source": [
    "# Tournament"
   ]
  },
  {
   "cell_type": "code",
   "execution_count": null,
   "id": "0ac25827",
   "metadata": {},
   "outputs": [],
   "source": [
    "tournament_df = pd.read_csv('tournament.csv')\n",
    "tournament_df.head()"
   ]
  },
  {
   "cell_type": "code",
   "execution_count": null,
   "id": "6749a392",
   "metadata": {},
   "outputs": [],
   "source": [
    "check_missing(tournament_df)"
   ]
  },
  {
   "cell_type": "code",
   "execution_count": null,
   "id": "f9d6c18e",
   "metadata": {},
   "outputs": [],
   "source": [
    "check_duplicate(tournament_df)"
   ]
  },
  {
   "cell_type": "markdown",
   "id": "a5d56f66",
   "metadata": {},
   "source": [
    "imputazione dei missing values di surface con la moda"
   ]
  },
  {
   "cell_type": "code",
   "execution_count": null,
   "id": "23a6981f",
   "metadata": {},
   "outputs": [],
   "source": [
    "tournament_df.loc[ tournament_df['surface'] == '?', 'surface' ] = tournament_df['surface'].mode()\n",
    "check_missing(tournament_df)"
   ]
  },
  {
   "cell_type": "markdown",
   "id": "540ba858",
   "metadata": {},
   "source": [
    "# Match"
   ]
  },
  {
   "cell_type": "code",
   "execution_count": null,
   "id": "88a4c00c",
   "metadata": {},
   "outputs": [],
   "source": [
    "match_df = pd.read_csv('match.csv')\n",
    "match_df.head()"
   ]
  },
  {
   "cell_type": "code",
   "execution_count": null,
   "id": "581398c6",
   "metadata": {},
   "outputs": [],
   "source": [
    "check_duplicate(match_df)"
   ]
  },
  {
   "cell_type": "code",
   "execution_count": null,
   "id": "8692d913",
   "metadata": {},
   "outputs": [],
   "source": [
    "check_missing(match_df)"
   ]
  },
  {
   "cell_type": "markdown",
   "id": "ae4a2ceb",
   "metadata": {},
   "source": [
    "elimino tutte le colonne con piu del 50% dei valori mancanti"
   ]
  },
  {
   "cell_type": "code",
   "execution_count": null,
   "id": "a80d4201",
   "metadata": {},
   "outputs": [],
   "source": [
    "match_df.drop(columns= ['minutes', 'w_ace', 'w_df', 'w_svpt', 'w_1stIn', 'w_1stWon',\n",
    "                       'w_2ndWon', 'w_SvGms', 'w_bpSaved', 'w_bpFaced', 'l_ace', 'l_df',\n",
    "                       'l_svpt', 'l_1stIn', 'l_1stWon', 'l_2ndWon', 'l_SvGms', 'l_bpSaved',\n",
    "                       'l_bpFaced'], inplace = True)\n",
    "\n",
    "check_missing(match_df)"
   ]
  },
  {
   "cell_type": "code",
   "execution_count": null,
   "id": "93c36a61",
   "metadata": {},
   "outputs": [],
   "source": [
    "match_df.head()"
   ]
  },
  {
   "cell_type": "markdown",
   "id": "5ca77b00",
   "metadata": {},
   "source": [
    "i valori winner/loser_rank_points vengono determinati usando un valore randomico normale \n",
    "parametrizzato sulla media e std_dev dei winner/loser_rank_points di ciascun torneo"
   ]
  },
  {
   "cell_type": "code",
   "execution_count": null,
   "id": "30fff1e4",
   "metadata": {},
   "outputs": [],
   "source": [
    "new_match_df = match_df[match_df['winner_rank_points'] != '?']\n",
    "new_match_df = new_match_df.astype({\"winner_rank_points\": float})\n",
    "\n",
    "new_match_df = new_match_df[new_match_df['loser_rank'] != '?']\n",
    "new_match_df = new_match_df.astype({\"loser_rank\": float})\n",
    "\n",
    "new_match_df = new_match_df[new_match_df['loser_rank_points'] != '?']\n",
    "new_match_df = new_match_df.astype({\"loser_rank_points\": float})\n",
    "\n",
    "new_match_df = new_match_df[new_match_df['winner_rank'] != '?']\n",
    "new_match_df = new_match_df.astype({\"winner_rank\": float})"
   ]
  },
  {
   "cell_type": "code",
   "execution_count": null,
   "id": "30363ae1",
   "metadata": {},
   "outputs": [],
   "source": [
    "new_match_df.info()"
   ]
  },
  {
   "cell_type": "markdown",
   "id": "bdcf51aa",
   "metadata": {},
   "source": [
    "imputazione loser/winner rank points"
   ]
  },
  {
   "cell_type": "code",
   "execution_count": null,
   "id": "6225aed4",
   "metadata": {},
   "outputs": [],
   "source": [
    "check_missing(match_df)"
   ]
  },
  {
   "cell_type": "code",
   "execution_count": null,
   "id": "c9c804d5",
   "metadata": {},
   "outputs": [],
   "source": [
    "from copy import copy \n",
    "def fill_rankPoints(original_df, fill_col):\n",
    "    \n",
    "    df = original_df.copy()\n",
    "    tourneys = df['tourney_id'].unique()\n",
    "    for tourney in tourneys:\n",
    "        \n",
    "        tourney_match_df= df[df['tourney_id']== tourney]\n",
    "        \n",
    "        # take only not na_values\n",
    "        tourney_no_na = tourney_match_df[tourney_match_df[fill_col] != '?'].astype({fill_col: float})\n",
    "        \n",
    "        # getting mean and std_dev of the tourney\n",
    "        mean = tourney_no_na[fill_col].mean()\n",
    "        std_dev = tourney_no_na[fill_col].std()\n",
    "        \n",
    "        # fill ? values in df with random gaussian value\n",
    "        df.loc[ ( (df[fill_col]== '?') & (df['tourney_id'] == tourney) ), fill_col] = abs(np.random.normal(mean, std_dev))\n",
    "        \n",
    "    return df\n",
    "\n",
    "match_df = fill_rankPoints(match_df, 'loser_rank_points')\n",
    "match_df = fill_rankPoints(match_df, 'winner_rank_points')\n",
    "check_missing(match_df)"
   ]
  },
  {
   "cell_type": "markdown",
   "id": "fb321f1c",
   "metadata": {},
   "source": [
    "imputazione loser/winner rank basandoci sui loser/winner rank points"
   ]
  },
  {
   "cell_type": "code",
   "execution_count": null,
   "id": "30d262bd",
   "metadata": {},
   "outputs": [],
   "source": [
    "import scipy\n",
    "\n",
    "print('correlation between loser_rank and loser_rank_points', \n",
    "      new_match_df['winner_rank'].corr(new_match_df['winner_rank_points'], method= 'spearman' ) )\n",
    "\n",
    "print('correlation between winner_rank and winner_rank_points', \n",
    "      new_match_df['loser_rank'].corr(new_match_df['loser_rank_points'], method= 'spearman' ) )"
   ]
  },
  {
   "cell_type": "markdown",
   "id": "a66c3c52",
   "metadata": {},
   "source": [
    "creo un modello di randomForestRegression per determinare i winner/loser_rank usando i winner/loser_rank_points"
   ]
  },
  {
   "cell_type": "code",
   "execution_count": null,
   "id": "db1792a5",
   "metadata": {},
   "outputs": [],
   "source": [
    "from sklearn.model_selection import train_test_split\n",
    "\n",
    "X = new_match_df['loser_rank_points'].values\n",
    "Y = new_match_df['loser_rank'].values\n",
    "\n",
    "x_train, x_test, y_train, y_test = train_test_split( X, Y, test_size = 0.3, random_state = 42)"
   ]
  },
  {
   "cell_type": "code",
   "execution_count": null,
   "id": "620aca46",
   "metadata": {},
   "outputs": [],
   "source": [
    "plt.title('Relationship between rank_points and rank')\n",
    "plt.scatter(x_train, y_train,  color='black')\n",
    "plt.xlabel('loser_rank_points')\n",
    "plt.ylabel('loser_rank')\n",
    "plt.show()"
   ]
  },
  {
   "cell_type": "code",
   "execution_count": null,
   "id": "a02a27b0",
   "metadata": {},
   "outputs": [],
   "source": [
    "x_train= x_train.reshape(-1, 1)\n",
    "x_test = x_test.reshape(-1, 1)"
   ]
  },
  {
   "cell_type": "code",
   "execution_count": null,
   "id": "603e0efd",
   "metadata": {},
   "outputs": [],
   "source": [
    "from sklearn.ensemble import RandomForestRegressor\n",
    "from sklearn.model_selection import KFold\n",
    "from sklearn.model_selection import cross_validate\n",
    "from sklearn.metrics import mean_squared_error, r2_score\n",
    "\n",
    "rf_loser_rank = RandomForestRegressor()\n",
    "cv = KFold(n_splits = 5, shuffle = True, random_state = 100)\n",
    "scores = cross_validate(rf_loser_rank, x_train, y_train, cv= cv, scoring='r2')\n",
    "\n",
    "print(\"CV-scores: %0.2f r2 with a standard deviation of %0.2f\" % (scores['test_score'].mean(), scores['test_score'].std()))"
   ]
  },
  {
   "cell_type": "code",
   "execution_count": null,
   "id": "3f72dfca",
   "metadata": {},
   "outputs": [],
   "source": [
    "rf_loser_rank.fit(x_train, y_train)\n",
    "y_pred = rf_loser_rank.predict(x_test)\n",
    "\n",
    "r2_score(y_test, y_pred)"
   ]
  },
  {
   "cell_type": "code",
   "execution_count": null,
   "id": "c093ab58",
   "metadata": {},
   "outputs": [],
   "source": [
    "def get_ranks(original_df, clf, col_in, col_out):\n",
    "    df = original_df.copy()\n",
    "    \n",
    "    df[col_in]= df[col_in].astype({col_in: float})\n",
    "    X = np.int_( np.around( df[col_in].values ) ).reshape(-1, 1)\n",
    "    \n",
    "    df['prediction'] = np.around(clf.predict(X))\n",
    "    df.loc[ (df[col_out]== '?'), col_out ] = df.loc[ (df[col_out]== '?'), 'prediction' ]\n",
    "    \n",
    "    return df\n",
    "\n",
    "match_df= get_ranks( match_df, rf_loser_rank, 'loser_rank_points', 'loser_rank' )\n",
    "match_df= get_ranks( match_df, rf_loser_rank, 'winner_rank_points', 'winner_rank' )\n",
    "check_missing(match_df)"
   ]
  },
  {
   "cell_type": "markdown",
   "id": "158d2291",
   "metadata": {},
   "source": [
    "imputazione della colonna score con la moda"
   ]
  },
  {
   "cell_type": "code",
   "execution_count": null,
   "id": "0f78a4e2",
   "metadata": {},
   "outputs": [],
   "source": [
    "match_df.loc[match_df['score']=='?', 'score']= match_df['score'].mode()\n",
    "check_missing(match_df)"
   ]
  },
  {
   "cell_type": "code",
   "execution_count": null,
   "id": "8f7737c1",
   "metadata": {},
   "outputs": [],
   "source": [
    "match_df.drop(columns= ['prediction'], inplace = True)"
   ]
  },
  {
   "cell_type": "markdown",
   "id": "a524f2c3",
   "metadata": {},
   "source": [
    "# Player"
   ]
  },
  {
   "cell_type": "code",
   "execution_count": null,
   "id": "5eef5de7",
   "metadata": {},
   "outputs": [],
   "source": [
    "player_df = pd.read_csv('player.csv')\n",
    "player_df.head()"
   ]
  },
  {
   "cell_type": "code",
   "execution_count": null,
   "id": "053541d7",
   "metadata": {},
   "outputs": [],
   "source": []
  },
  {
   "cell_type": "code",
   "execution_count": null,
   "id": "6c903efb",
   "metadata": {
    "scrolled": true
   },
   "outputs": [],
   "source": [
    "check_missing(player_df)"
   ]
  },
  {
   "cell_type": "code",
   "execution_count": null,
   "id": "c64543e9",
   "metadata": {},
   "outputs": [],
   "source": [
    "player_df['name'].isna().sum()"
   ]
  },
  {
   "cell_type": "code",
   "execution_count": null,
   "id": "85077254",
   "metadata": {},
   "outputs": [],
   "source": [
    "check_duplicate(player_df)"
   ]
  },
  {
   "cell_type": "markdown",
   "id": "705a11fd",
   "metadata": {},
   "source": [
    "poiche ci sono troppi missing values in ht, la droppiamo"
   ]
  },
  {
   "cell_type": "code",
   "execution_count": null,
   "id": "83dd733d",
   "metadata": {},
   "outputs": [],
   "source": [
    "player_df.drop(columns= ['ht'], inplace = True)\n",
    "check_missing(player_df)"
   ]
  },
  {
   "cell_type": "markdown",
   "id": "c36bf6dc",
   "metadata": {},
   "source": [
    "ricerca di una qualche relazione tra i rank_points e il byear"
   ]
  },
  {
   "cell_type": "code",
   "execution_count": null,
   "id": "8dd99a4b",
   "metadata": {},
   "outputs": [],
   "source": [
    "player_df.loc[ player_df['hand'] == '?', 'hand' ] = player_df['hand'].mode()\n",
    "check_missing(player_df)"
   ]
  },
  {
   "cell_type": "markdown",
   "id": "118d4317",
   "metadata": {},
   "source": [
    "plotto un istogramma dei valori di byear"
   ]
  },
  {
   "cell_type": "code",
   "execution_count": null,
   "id": "3a75f06f",
   "metadata": {},
   "outputs": [],
   "source": [
    "byear = player_df.loc[ player_df['byear'] != '?', 'byear'].astype(int)\n",
    "byear.hist(bins= 10)"
   ]
  },
  {
   "cell_type": "code",
   "execution_count": null,
   "id": "4f9d7103",
   "metadata": {},
   "outputs": [],
   "source": [
    "# aggiungo al dataframe dei giocatori il massimo punteggio ottenuto nei match\n",
    "points_players = match_df.groupby(by= ['winner_id'], as_index= False)['winner_rank_points'].max()\n",
    "points_players= points_players.rename(columns={\"winner_id\": \"player_id\"})\n",
    "player_df= player_df.merge(points_players, on= 'player_id')\n",
    "\n",
    "player_df.head()"
   ]
  },
  {
   "cell_type": "code",
   "execution_count": null,
   "id": "11d1d282",
   "metadata": {},
   "outputs": [],
   "source": [
    "byear_player_df= player_df[player_df['byear'] != '?']\n",
    "byear_player_df= byear_player_df.astype({\"winner_rank_points\": float})\n",
    "byear_player_df= byear_player_df.astype({\"byear\": int})"
   ]
  },
  {
   "cell_type": "code",
   "execution_count": null,
   "id": "5f81d96c",
   "metadata": {},
   "outputs": [],
   "source": [
    "print('correlation between byear and max winner_rank_points', \n",
    "      byear_player_df['winner_rank_points'].corr(byear_player_df['byear'], method= 'spearman' ) )"
   ]
  },
  {
   "cell_type": "code",
   "execution_count": null,
   "id": "69b71e19",
   "metadata": {},
   "outputs": [],
   "source": [
    "X = byear_player_df['winner_rank_points'].values\n",
    "Y = byear_player_df['byear'].values"
   ]
  },
  {
   "cell_type": "code",
   "execution_count": null,
   "id": "d25ac524",
   "metadata": {},
   "outputs": [],
   "source": [
    "plt.title('Relationship between winner_rank_points and byear')\n",
    "plt.scatter(X, Y,  color='black')\n",
    "plt.show()"
   ]
  },
  {
   "cell_type": "markdown",
   "id": "54799c89",
   "metadata": {},
   "source": [
    "poiche non si riesce ad individuare nessuna relazione tra l'eta e il punteggio, e poiche ci sono troppi giocatori senza byear, che e un dato che ci serve per la seconda parte del progetto, abbiamo deciso di eliminare i giocatori senza un anno di nascita"
   ]
  },
  {
   "cell_type": "code",
   "execution_count": null,
   "id": "a21fec91",
   "metadata": {},
   "outputs": [],
   "source": [
    "player_noByear_df= player_df.loc[player_df['byear'] == '?']\n",
    "player_noByear_df.head()"
   ]
  },
  {
   "cell_type": "code",
   "execution_count": null,
   "id": "6413e4ac",
   "metadata": {},
   "outputs": [],
   "source": [
    "player_df= player_df.loc[player_df['byear'] != '?']\n",
    "player_df.head()"
   ]
  },
  {
   "cell_type": "code",
   "execution_count": null,
   "id": "c15e9a11",
   "metadata": {},
   "outputs": [],
   "source": [
    "check_missing(player_df)"
   ]
  },
  {
   "cell_type": "markdown",
   "id": "1942cc36",
   "metadata": {},
   "source": [
    "utilizziamo player_noByear_df per eliminare tutti i match dove compaiono gli id di questi giocatori"
   ]
  },
  {
   "cell_type": "code",
   "execution_count": null,
   "id": "3e3c4fb4",
   "metadata": {},
   "outputs": [],
   "source": [
    "match_df.shape"
   ]
  },
  {
   "cell_type": "code",
   "execution_count": null,
   "id": "c5d64928",
   "metadata": {},
   "outputs": [],
   "source": [
    "match_df= match_df[ ~(match_df['winner_id'].isin(player_noByear_df['player_id'])) ]\n",
    "match_df= match_df[ ~(match_df['loser_id'].isin(player_noByear_df['player_id'])) ]"
   ]
  },
  {
   "cell_type": "code",
   "execution_count": null,
   "id": "a9927d83",
   "metadata": {},
   "outputs": [],
   "source": [
    "match_df.shape"
   ]
  },
  {
   "cell_type": "markdown",
   "id": "b08f1209",
   "metadata": {},
   "source": [
    "check delle inconsistenze per la chiave primaria"
   ]
  },
  {
   "cell_type": "code",
   "execution_count": null,
   "id": "a6c4809e",
   "metadata": {},
   "outputs": [],
   "source": [
    "player_df.columns"
   ]
  },
  {
   "cell_type": "code",
   "execution_count": null,
   "id": "4356d3dc",
   "metadata": {},
   "outputs": [],
   "source": [
    "player_df.drop(columns=['winner_rank_points'], inplace = True)\n",
    "player_df= player_df.rename(columns={\"country_id\": \"country\"})"
   ]
  },
  {
   "cell_type": "code",
   "execution_count": null,
   "id": "8dda51ce",
   "metadata": {},
   "outputs": [],
   "source": [
    "len(player_df) == len(player_df['name'].unique())"
   ]
  },
  {
   "cell_type": "code",
   "execution_count": null,
   "id": "8bf025fb",
   "metadata": {},
   "outputs": [],
   "source": [
    "names = player_df['name']\n",
    "player_df[names.isin(names[names.duplicated()])]"
   ]
  },
  {
   "cell_type": "code",
   "execution_count": null,
   "id": "9f9da18f",
   "metadata": {},
   "outputs": [],
   "source": [
    "len(player_df) -1 == len(player_df['name'].unique())"
   ]
  },
  {
   "cell_type": "markdown",
   "id": "6e4f93d4",
   "metadata": {},
   "source": [
    "sembra non esistere inconsistenza tra il nome dei giocatori e gli ids"
   ]
  },
  {
   "cell_type": "code",
   "execution_count": null,
   "id": "d6f1caa1",
   "metadata": {},
   "outputs": [],
   "source": [
    "tournament_df.columns"
   ]
  },
  {
   "cell_type": "code",
   "execution_count": null,
   "id": "55c73078",
   "metadata": {},
   "outputs": [],
   "source": [
    "len(tournament_df) == len(tournament_df['tourney_name'].unique())"
   ]
  },
  {
   "cell_type": "code",
   "execution_count": null,
   "id": "104a9168",
   "metadata": {},
   "outputs": [],
   "source": [
    "column_values = tournament_df[['tourney_id', 'tourney_name']].values.ravel()\n",
    "unique_values =  pd.unique(column_values)"
   ]
  },
  {
   "cell_type": "code",
   "execution_count": null,
   "id": "b6fa3c36",
   "metadata": {},
   "outputs": [],
   "source": [
    "groups = tournament_df.groupby(['tourney_id', 'tourney_name'])['tourney_date'].count()\n",
    "groups"
   ]
  },
  {
   "cell_type": "code",
   "execution_count": null,
   "id": "da999e1b",
   "metadata": {},
   "outputs": [],
   "source": [
    "len( groups[groups > 1] )"
   ]
  },
  {
   "cell_type": "code",
   "execution_count": null,
   "id": "443d1dd3",
   "metadata": {},
   "outputs": [],
   "source": [
    "len( groups[groups == 1] )"
   ]
  },
  {
   "cell_type": "code",
   "execution_count": null,
   "id": "89b63301",
   "metadata": {},
   "outputs": [],
   "source": [
    "len(tournament_df)"
   ]
  },
  {
   "cell_type": "markdown",
   "id": "7ec837eb",
   "metadata": {},
   "source": [
    "tournemanet non ha problemi di inconsistenza sulla chiave"
   ]
  },
  {
   "cell_type": "code",
   "execution_count": null,
   "id": "be4b8c3b",
   "metadata": {},
   "outputs": [],
   "source": [
    "match_df.columns"
   ]
  },
  {
   "cell_type": "code",
   "execution_count": null,
   "id": "6449c8ec",
   "metadata": {},
   "outputs": [],
   "source": [
    "len(match_df) == len(match_df['match_id'].unique())"
   ]
  },
  {
   "cell_type": "code",
   "execution_count": null,
   "id": "436ff473",
   "metadata": {},
   "outputs": [],
   "source": [
    "match_df.to_csv('match_cleaned.csv',index=False)"
   ]
  },
  {
   "cell_type": "code",
   "execution_count": null,
   "id": "58cdde67",
   "metadata": {},
   "outputs": [],
   "source": [
    "tournament_df.to_csv('tournament_cleaned.csv',index=False)"
   ]
  },
  {
   "cell_type": "code",
   "execution_count": null,
   "id": "da218675",
   "metadata": {},
   "outputs": [],
   "source": [
    "player_df.to_csv('player_cleaned.csv',index=False)"
   ]
  },
  {
   "cell_type": "code",
   "execution_count": null,
   "id": "0b6d34a5",
   "metadata": {},
   "outputs": [],
   "source": [
    "geo_df= pd.read_csv('geography_cleaned.csv')\n",
    "geo_df= geo_df.rename(columns={\"country_code\": \"country_ioc\"})\n",
    "geo_df.to_csv('geography_cleaned.csv', index= False)"
   ]
  },
  {
   "cell_type": "code",
   "execution_count": null,
   "id": "fa322fd9",
   "metadata": {},
   "outputs": [],
   "source": [
    "match_df= pd.read_csv('match_cleaned.csv')\n",
    "player_df= pd.read_csv('player_cleaned.csv')"
   ]
  },
  {
   "cell_type": "code",
   "execution_count": null,
   "id": "6dad92cb",
   "metadata": {},
   "outputs": [],
   "source": [
    "match_df[~match_df['loser_id'].isin(player_df['player_id'])]"
   ]
  },
  {
   "cell_type": "code",
   "execution_count": null,
   "id": "59f835d9",
   "metadata": {},
   "outputs": [],
   "source": [
    "match_df.shape"
   ]
  },
  {
   "cell_type": "code",
   "execution_count": null,
   "id": "c99b5fe8",
   "metadata": {},
   "outputs": [],
   "source": [
    "match_df= match_df.loc[  match_df['loser_id'].isin(player_df['player_id']),  ]\n",
    "match_df.shape"
   ]
  },
  {
   "cell_type": "code",
   "execution_count": null,
   "id": "7829556a",
   "metadata": {},
   "outputs": [],
   "source": [
    "match_df[~match_df['loser_id'].isin(player_df['player_id'])]"
   ]
  },
  {
   "cell_type": "code",
   "execution_count": null,
   "id": "e59bbcdc",
   "metadata": {},
   "outputs": [],
   "source": [
    "match_df.head()"
   ]
  },
  {
   "cell_type": "code",
   "execution_count": null,
   "id": "e85a77b6",
   "metadata": {},
   "outputs": [],
   "source": [
    "match_df.to_csv('match_cleaned.csv',index=False)"
   ]
  },
  {
   "cell_type": "markdown",
   "id": "d41dcd18",
   "metadata": {},
   "source": [
    "# Geography"
   ]
  },
  {
   "cell_type": "code",
   "execution_count": null,
   "id": "abb5ddb2",
   "metadata": {},
   "outputs": [],
   "source": [
    "def simple_text_preprocessor(document): \n",
    "    document = re.sub(r'[^a-zA-Z]',r' ', document)#usa solo lettere dell' alfabeto\n",
    "    document = re.sub(r'\\([^)]*\\)', '', document)#rimuovere simboli\n",
    "    document = re.sub(r\"([A-Z][a-z]+)([A-Z][a-z]+)\", r\"\\1 \\2\", document)#aggiungere spazi tra minuscole e maiuscole\n",
    "    return document\n",
    "stp = np.vectorize(simple_text_preprocessor)"
   ]
  },
  {
   "cell_type": "markdown",
   "id": "651feff3",
   "metadata": {},
   "source": [
    "Source of the open-source dataset:\n",
    "https://github.com/datasets/country-codes/blob/master/data/country-codes.csv"
   ]
  },
  {
   "cell_type": "code",
   "execution_count": null,
   "id": "3e6f5624",
   "metadata": {},
   "outputs": [],
   "source": [
    "dfcountry = pd.read_csv(\"countries.csv\")\n",
    "print(dfcountry.shape)\n",
    "dfcountry.info()"
   ]
  },
  {
   "cell_type": "code",
   "execution_count": null,
   "id": "d19dedb2",
   "metadata": {},
   "outputs": [],
   "source": [
    "dfcountry.shape"
   ]
  },
  {
   "cell_type": "code",
   "execution_count": null,
   "id": "f786d267",
   "metadata": {},
   "outputs": [],
   "source": [
    "dfcountry.head()"
   ]
  },
  {
   "cell_type": "code",
   "execution_count": null,
   "id": "cd3377c9",
   "metadata": {},
   "outputs": [],
   "source": [
    "dfcountry.isna().sum()"
   ]
  },
  {
   "cell_type": "code",
   "execution_count": null,
   "id": "b77a97fb",
   "metadata": {},
   "outputs": [],
   "source": [
    "dfcountry=dfcountry.sort_values('country_name')"
   ]
  },
  {
   "cell_type": "code",
   "execution_count": null,
   "id": "d2fae838",
   "metadata": {},
   "outputs": [],
   "source": [
    "#Apro l open-source dataset\n",
    "df_new = pd.read_csv(\"country_codes.csv\")\n",
    "print(df_new.shape)"
   ]
  },
  {
   "cell_type": "code",
   "execution_count": null,
   "id": "985d5b3f",
   "metadata": {},
   "outputs": [],
   "source": [
    "df_new.head()"
   ]
  },
  {
   "cell_type": "code",
   "execution_count": null,
   "id": "623a5e40",
   "metadata": {},
   "outputs": [],
   "source": [
    "#Da questo nuovo df ne creo uno con le variabili che mi interessano\n",
    "df_new_countries=pd.DataFrame()\n",
    "df_new_countries['country_code']=df_new['IOC']\n",
    "df_new_countries['country']=df_new['UNTERM English Short']\n",
    "df_new_countries['language']=df_new['Languages']\n",
    "df_new_countries['Region']=df_new['Region Name']"
   ]
  },
  {
   "cell_type": "code",
   "execution_count": null,
   "id": "29199a7a",
   "metadata": {},
   "outputs": [],
   "source": [
    "df_final_geo=dfcountry.merge(df_new_countries,how='left',on='country_code')"
   ]
  },
  {
   "cell_type": "code",
   "execution_count": null,
   "id": "60658cea",
   "metadata": {},
   "outputs": [],
   "source": [
    "print(df_final_geo.shape)\n",
    "df_final_geo.head()"
   ]
  },
  {
   "cell_type": "code",
   "execution_count": null,
   "id": "4db2e112",
   "metadata": {},
   "outputs": [],
   "source": [
    "df_final_geo = df_final_geo.astype(str)"
   ]
  },
  {
   "cell_type": "code",
   "execution_count": null,
   "id": "d2129d08",
   "metadata": {},
   "outputs": [],
   "source": [
    "df_final_geo['language']=stp(df_final_geo[ 'language'].values)\n",
    "df_final_geo['language'] = df_final_geo['language'].str.split().str[0]#prendo solo il primo elemento, cioè la lingua"
   ]
  },
  {
   "cell_type": "code",
   "execution_count": null,
   "id": "aa5d7e6e",
   "metadata": {},
   "outputs": [],
   "source": [
    "df_final_geo.loc[df_final_geo['country_code']=='SGP','language']='cmn'\n",
    "df_final_geo.loc[df_final_geo['country_code']=='DEU','language']='de'\n",
    "df_final_geo.loc[df_final_geo['country_code']=='GRC','language']='el'\n",
    "df_final_geo.loc[df_final_geo['country_code']=='UNK','language']='al'#albanese\n",
    "df_final_geo.loc[df_final_geo['country_code']=='MNE','language']='mo'#montenegrin\n",
    "df_final_geo.loc[df_final_geo['country_code']=='NLD','language']='nl'\n",
    "df_final_geo.loc[df_final_geo['country_code']=='NGA','language']='en'\n",
    "df_final_geo.loc[df_final_geo['country_code']=='PHL','language']='tl'\n",
    "df_final_geo.loc[df_final_geo['country_code']=='TRI','language']='en'\n",
    "df_final_geo.loc[df_final_geo['country_code']=='POC','language']='unknown'"
   ]
  },
  {
   "cell_type": "code",
   "execution_count": null,
   "id": "6737ab92",
   "metadata": {},
   "outputs": [],
   "source": [
    "df_final_geo.drop(['country_name','Region','country'],axis=1,inplace=True)"
   ]
  },
  {
   "cell_type": "code",
   "execution_count": null,
   "id": "fb44c579",
   "metadata": {},
   "outputs": [],
   "source": [
    "df_final_geo.head()"
   ]
  },
  {
   "cell_type": "code",
   "execution_count": null,
   "id": "5f1c31d2",
   "metadata": {},
   "outputs": [],
   "source": [
    "df_final_geo.to_csv('geography_cleaned.csv',index=False)"
   ]
  },
  {
   "cell_type": "code",
   "execution_count": null,
   "id": "444f502e",
   "metadata": {},
   "outputs": [],
   "source": []
  },
  {
   "cell_type": "code",
   "execution_count": null,
   "id": "f0199c79",
   "metadata": {},
   "outputs": [],
   "source": []
  },
  {
   "cell_type": "code",
   "execution_count": null,
   "id": "e004f68a",
   "metadata": {},
   "outputs": [],
   "source": []
  },
  {
   "cell_type": "code",
   "execution_count": null,
   "id": "7b07cc70",
   "metadata": {},
   "outputs": [],
   "source": []
  },
  {
   "cell_type": "code",
   "execution_count": null,
   "id": "9f399612",
   "metadata": {},
   "outputs": [],
   "source": []
  },
  {
   "cell_type": "code",
   "execution_count": null,
   "id": "f17e8c11",
   "metadata": {},
   "outputs": [],
   "source": []
  },
  {
   "cell_type": "code",
   "execution_count": null,
   "id": "1931d771",
   "metadata": {},
   "outputs": [],
   "source": []
  },
  {
   "cell_type": "code",
   "execution_count": null,
   "id": "7707dc36",
   "metadata": {},
   "outputs": [],
   "source": []
  },
  {
   "cell_type": "code",
   "execution_count": null,
   "id": "fc5a3967",
   "metadata": {},
   "outputs": [],
   "source": []
  }
 ],
 "metadata": {
  "kernelspec": {
   "display_name": "Python 3 (ipykernel)",
   "language": "python",
   "name": "python3"
  },
  "language_info": {
   "codemirror_mode": {
    "name": "ipython",
    "version": 3
   },
   "file_extension": ".py",
   "mimetype": "text/x-python",
   "name": "python",
   "nbconvert_exporter": "python",
   "pygments_lexer": "ipython3",
   "version": "3.8.12"
  }
 },
 "nbformat": 4,
 "nbformat_minor": 5
}
